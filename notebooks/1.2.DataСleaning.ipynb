{
 "cells": [
  {
   "cell_type": "markdown",
   "metadata": {},
   "source": [
    "# №1. Сбор данных, реализация скриптов для чистки данных"
   ]
  },
  {
   "cell_type": "markdown",
   "metadata": {},
   "source": [
    "Выполнение №1 разбито на 2 части:\n",
    "* №1.1 - сбор данных;\n",
    "* №1.2 - чистка данных."
   ]
  },
  {
   "cell_type": "markdown",
   "metadata": {},
   "source": [
    "## №1.2.  Чистка данных"
   ]
  },
  {
   "cell_type": "markdown",
   "metadata": {},
   "source": [
    "В данной задаче необходимо реализовать механизм очистки документов от не релевантной информации, например:\n",
    "* html теги;\n",
    "* ссылки на сторонние или внутренние ресурсы сайта;\n",
    "* ссылки на изображения и видео;\n",
    "* знаки препинания.\n",
    "\n",
    "После проведенной обработки размер текста для каждого твита должен быть **от 50** символов. \n",
    "\n",
    "Объем собранной коллекции не менее **100 тысяч** уникальных документов:\n",
    "* до чистки 175.585 документов;\n",
    "* после чистки 100.233 документов.\n",
    "\n",
    "Результатом №1.2 является: \n",
    "* инструмент очистки текстов;  \n",
    "* коллекция документов после очистки."
   ]
  },
  {
   "cell_type": "code",
   "execution_count": 1,
   "metadata": {},
   "outputs": [],
   "source": [
    "import pandas as pd\n",
    "import re"
   ]
  },
  {
   "cell_type": "markdown",
   "metadata": {},
   "source": [
    "### Подсчет документов в исходной коллекции и просмотр текстов твитов"
   ]
  },
  {
   "cell_type": "code",
   "execution_count": 2,
   "metadata": {},
   "outputs": [],
   "source": [
    "def get_total_number_of_docs(dataframe):\n",
    "    return dataframe.shape[0]"
   ]
  },
  {
   "cell_type": "code",
   "execution_count": 3,
   "metadata": {},
   "outputs": [],
   "source": [
    "def get_total_number_of_docs_by_users(dataframe):\n",
    "    return dataframe.groupby('name').size()"
   ]
  },
  {
   "cell_type": "code",
   "execution_count": 4,
   "metadata": {},
   "outputs": [],
   "source": [
    "PATH = \"C:/Users/LADA/Inf_Search\""
   ]
  },
  {
   "cell_type": "code",
   "execution_count": 5,
   "metadata": {},
   "outputs": [],
   "source": [
    "data_path = \"{}/{}\".format(PATH, \"data\")"
   ]
  },
  {
   "cell_type": "code",
   "execution_count": 6,
   "metadata": {},
   "outputs": [],
   "source": [
    "initial_data_file = 'initial_data.csv'"
   ]
  },
  {
   "cell_type": "code",
   "execution_count": 7,
   "metadata": {},
   "outputs": [
    {
     "name": "stderr",
     "output_type": "stream",
     "text": [
      "c:\\users\\lada\\appdata\\local\\programs\\python\\python38-32\\lib\\site-packages\\IPython\\core\\interactiveshell.py:3062: DtypeWarning: Columns (9) have mixed types.Specify dtype option on import or set low_memory=False.\n",
      "  has_raised = await self.run_ast_nodes(code_ast.body, cell_name,\n"
     ]
    }
   ],
   "source": [
    "df = pd.read_csv(\"{}/{}\".format(data_path, initial_data_file))"
   ]
  },
  {
   "cell_type": "code",
   "execution_count": 8,
   "metadata": {},
   "outputs": [
    {
     "data": {
      "text/plain": [
       "175585"
      ]
     },
     "execution_count": 8,
     "metadata": {},
     "output_type": "execute_result"
    }
   ],
   "source": [
    "get_total_number_of_docs(df)"
   ]
  },
  {
   "cell_type": "code",
   "execution_count": 9,
   "metadata": {},
   "outputs": [
    {
     "data": {
      "text/plain": [
       "name\n",
       "Ariana Grande          12019\n",
       "Barack Obama            7088\n",
       "Britney Spears          5124\n",
       "CNN Breaking News      12000\n",
       "Cristiano Ronaldo       3268\n",
       "Donald J. Trump        12000\n",
       "Ellen DeGeneres        12000\n",
       "Justin Bieber          12000\n",
       "Justin Timberlake       3321\n",
       "KATY PERRY             10174\n",
       "Kim Kardashian West    12000\n",
       "Lady Gaga               7712\n",
       "Narendra Modi          12000\n",
       "Rihanna                 9638\n",
       "Selena Gomez            4292\n",
       "Shakira                 5438\n",
       "Taylor Swift             542\n",
       "Team Demi              12000\n",
       "Twitter                10969\n",
       "YouTube                12000\n",
       "dtype: int64"
      ]
     },
     "execution_count": 9,
     "metadata": {},
     "output_type": "execute_result"
    }
   ],
   "source": [
    "get_total_number_of_docs_by_users(df)"
   ]
  },
  {
   "cell_type": "code",
   "execution_count": 10,
   "metadata": {},
   "outputs": [],
   "source": [
    "tweets = df['tweet']"
   ]
  },
  {
   "cell_type": "code",
   "execution_count": 11,
   "metadata": {},
   "outputs": [
    {
     "name": "stdout",
     "output_type": "stream",
     "text": [
      "I believe that where you live shouldn’t affect your access to life-saving treatment. That’s why I'm supporting @glblctzn's Global Goal: Unite For Our Future, which calls on world leaders to fund COVID-19 relief for anyone who needs it.  https://glblctzn.me/UniteForOurFuture … #GlobalGoalUnite pic.twitter.com/CkGNSpqoUu\n",
      "Y yo a ti!!!😘\n",
      "Congratulations to my cousin @IsaMebarak for her new album which is so full of our heritage! https://open.spotify.com/album/5H8Ewo7uIDW0fpVTMcIb5C?si=X8eqegu0RAidFDGe5W5fkg …\n",
      "Felicidades a mi prima hermana @isamebarak por su nuevo álbum que contiene tanto de nuestra herencia! https://open.spotify.com/album/5H8Ewo7uIDW0fpVTMcIb5C?si=3IFZkVh_SzaYFJwIoKDvIQ …\n",
      "I’ve read your tweets bosses! \n",
      "I’m on it! 😘 pic.twitter.com/OVqQ05OGoe\n",
      "Just heard that the Waka video has reached 2.5 BILLION views. Incredible. You guys really are amazing. Thank you!\n",
      " https://youtu.be/pRpeEdMmmQ0  pic.twitter.com/DD0dujFv3H\n",
      "🤟🤟🤟 pic.twitter.com/ckFv3rdzWw\n",
      "So much fun to be back on @NBCTheVoice yesterday! #TheVoice https://twitter.com/NBCTheVoice/status/1262913208827822080 …\n",
      "Who’s excited about Shak’s special guest appearance on tonight’s @NBCTheVoice Finale?! ShakHQ #TheVoice https://twitter.com/NBCTheVoice/status/1262820317891870720 …\n",
      "Felicidades de nuestro equipo @fpiesdescalzos en este #DíaDelMaestro por su inconmensurable esfuerzo!! pic.twitter.com/3gaGyunFHc\n"
     ]
    }
   ],
   "source": [
    "for tweet in tweets[:10]:\n",
    "    print(tweet)"
   ]
  },
  {
   "cell_type": "markdown",
   "metadata": {},
   "source": [
    "### Удаление из текста твитов ссылок на ресурсы, изображения и видео"
   ]
  },
  {
   "cell_type": "code",
   "execution_count": 12,
   "metadata": {},
   "outputs": [],
   "source": [
    "def remove_http_and_pic(df_tweet):\n",
    "    return df_tweet.str.replace('http\\S+|pic.twitter.com\\S+', '', case=False)"
   ]
  },
  {
   "cell_type": "code",
   "execution_count": 13,
   "metadata": {},
   "outputs": [],
   "source": [
    "df['tweet'] = remove_http_and_pic(df['tweet'])"
   ]
  },
  {
   "cell_type": "code",
   "execution_count": 14,
   "metadata": {},
   "outputs": [
    {
     "name": "stdout",
     "output_type": "stream",
     "text": [
      "I believe that where you live shouldn’t affect your access to life-saving treatment. That’s why I'm supporting @glblctzn's Global Goal: Unite For Our Future, which calls on world leaders to fund COVID-19 relief for anyone who needs it.   … #GlobalGoalUnite \n",
      "Y yo a ti!!!😘\n",
      "Congratulations to my cousin @IsaMebarak for her new album which is so full of our heritage!  …\n",
      "Felicidades a mi prima hermana @isamebarak por su nuevo álbum que contiene tanto de nuestra herencia!  …\n",
      "I’ve read your tweets bosses! \n",
      "I’m on it! 😘 \n",
      "Just heard that the Waka video has reached 2.5 BILLION views. Incredible. You guys really are amazing. Thank you!\n",
      "   \n",
      "🤟🤟🤟 \n",
      "So much fun to be back on @NBCTheVoice yesterday! #TheVoice  …\n",
      "Who’s excited about Shak’s special guest appearance on tonight’s @NBCTheVoice Finale?! ShakHQ #TheVoice  …\n",
      "Felicidades de nuestro equipo @fpiesdescalzos en este #DíaDelMaestro por su inconmensurable esfuerzo!! \n"
     ]
    }
   ],
   "source": [
    "for tweet in tweets[:10]:\n",
    "    print(tweet)"
   ]
  },
  {
   "cell_type": "markdown",
   "metadata": {},
   "source": [
    "### Удаление из текста твитов разрывов строки"
   ]
  },
  {
   "cell_type": "code",
   "execution_count": 15,
   "metadata": {},
   "outputs": [],
   "source": [
    "def remove_line_break(df_tweet):\n",
    "    return df_tweet.str.replace('\\n', '')"
   ]
  },
  {
   "cell_type": "code",
   "execution_count": 16,
   "metadata": {},
   "outputs": [],
   "source": [
    "df['tweet'] = remove_line_break(df['tweet'])"
   ]
  },
  {
   "cell_type": "code",
   "execution_count": 17,
   "metadata": {},
   "outputs": [
    {
     "name": "stdout",
     "output_type": "stream",
     "text": [
      "I believe that where you live shouldn’t affect your access to life-saving treatment. That’s why I'm supporting @glblctzn's Global Goal: Unite For Our Future, which calls on world leaders to fund COVID-19 relief for anyone who needs it.   … #GlobalGoalUnite \n",
      "Y yo a ti!!!😘\n",
      "Congratulations to my cousin @IsaMebarak for her new album which is so full of our heritage!  …\n",
      "Felicidades a mi prima hermana @isamebarak por su nuevo álbum que contiene tanto de nuestra herencia!  …\n",
      "I’ve read your tweets bosses! I’m on it! 😘 \n",
      "Just heard that the Waka video has reached 2.5 BILLION views. Incredible. You guys really are amazing. Thank you!   \n",
      "🤟🤟🤟 \n",
      "So much fun to be back on @NBCTheVoice yesterday! #TheVoice  …\n",
      "Who’s excited about Shak’s special guest appearance on tonight’s @NBCTheVoice Finale?! ShakHQ #TheVoice  …\n",
      "Felicidades de nuestro equipo @fpiesdescalzos en este #DíaDelMaestro por su inconmensurable esfuerzo!! \n"
     ]
    }
   ],
   "source": [
    "for tweet in tweets[:10]:\n",
    "    print(tweet)"
   ]
  },
  {
   "cell_type": "markdown",
   "metadata": {},
   "source": [
    "### Удаление из текста твитов всех символов, кроме букв"
   ]
  },
  {
   "cell_type": "code",
   "execution_count": 18,
   "metadata": {},
   "outputs": [],
   "source": [
    "def get_only_letters(df_tweet):\n",
    "    return df_tweet.str.replace('\\W', ' ').str.replace('\\d', ' ').str.replace(\" +\", ' ')"
   ]
  },
  {
   "cell_type": "code",
   "execution_count": 19,
   "metadata": {},
   "outputs": [],
   "source": [
    "df['tweet'] = get_only_letters(df['tweet'])"
   ]
  },
  {
   "cell_type": "code",
   "execution_count": 20,
   "metadata": {},
   "outputs": [
    {
     "name": "stdout",
     "output_type": "stream",
     "text": [
      "I believe that where you live shouldn t affect your access to life saving treatment That s why I m supporting glblctzn s Global Goal Unite For Our Future which calls on world leaders to fund COVID relief for anyone who needs it GlobalGoalUnite \n",
      "Y yo a ti \n",
      "Congratulations to my cousin IsaMebarak for her new album which is so full of our heritage \n",
      "Felicidades a mi prima hermana isamebarak por su nuevo álbum que contiene tanto de nuestra herencia \n",
      "I ve read your tweets bosses I m on it \n",
      "Just heard that the Waka video has reached BILLION views Incredible You guys really are amazing Thank you \n",
      " \n",
      "So much fun to be back on NBCTheVoice yesterday TheVoice \n",
      "Who s excited about Shak s special guest appearance on tonight s NBCTheVoice Finale ShakHQ TheVoice \n",
      "Felicidades de nuestro equipo fpiesdescalzos en este DíaDelMaestro por su inconmensurable esfuerzo \n"
     ]
    }
   ],
   "source": [
    "for tweet in tweets[:10]:\n",
    "    print(tweet)"
   ]
  },
  {
   "cell_type": "markdown",
   "metadata": {},
   "source": [
    "### Конвертация текста твитов в нижний регистр"
   ]
  },
  {
   "cell_type": "code",
   "execution_count": 21,
   "metadata": {},
   "outputs": [],
   "source": [
    "def get_lower(df_tweet):\n",
    "    return df_tweet.str.lower()"
   ]
  },
  {
   "cell_type": "code",
   "execution_count": 22,
   "metadata": {},
   "outputs": [],
   "source": [
    "df['tweet'] = get_lower(df['tweet'])"
   ]
  },
  {
   "cell_type": "code",
   "execution_count": 23,
   "metadata": {},
   "outputs": [
    {
     "name": "stdout",
     "output_type": "stream",
     "text": [
      "i believe that where you live shouldn t affect your access to life saving treatment that s why i m supporting glblctzn s global goal unite for our future which calls on world leaders to fund covid relief for anyone who needs it globalgoalunite \n",
      "y yo a ti \n",
      "congratulations to my cousin isamebarak for her new album which is so full of our heritage \n",
      "felicidades a mi prima hermana isamebarak por su nuevo álbum que contiene tanto de nuestra herencia \n",
      "i ve read your tweets bosses i m on it \n",
      "just heard that the waka video has reached billion views incredible you guys really are amazing thank you \n",
      " \n",
      "so much fun to be back on nbcthevoice yesterday thevoice \n",
      "who s excited about shak s special guest appearance on tonight s nbcthevoice finale shakhq thevoice \n",
      "felicidades de nuestro equipo fpiesdescalzos en este díadelmaestro por su inconmensurable esfuerzo \n"
     ]
    }
   ],
   "source": [
    "for tweet in tweets[:10]:\n",
    "    print(tweet)"
   ]
  },
  {
   "cell_type": "markdown",
   "metadata": {},
   "source": [
    "### Удаление текстов твитов из менее, чем 50 символов"
   ]
  },
  {
   "cell_type": "code",
   "execution_count": 24,
   "metadata": {},
   "outputs": [],
   "source": [
    "def remove_texts_less_than_50_characters(dataframe):\n",
    "    return dataframe[dataframe['tweet'].apply(lambda tweets: sum(len(tweet) for tweet in tweets.split()) >= 50)]"
   ]
  },
  {
   "cell_type": "code",
   "execution_count": 25,
   "metadata": {},
   "outputs": [],
   "source": [
    "df = remove_texts_less_than_50_characters(df)"
   ]
  },
  {
   "cell_type": "code",
   "execution_count": 28,
   "metadata": {},
   "outputs": [
    {
     "data": {
      "text/html": [
       "<div>\n",
       "<style scoped>\n",
       "    .dataframe tbody tr th:only-of-type {\n",
       "        vertical-align: middle;\n",
       "    }\n",
       "\n",
       "    .dataframe tbody tr th {\n",
       "        vertical-align: top;\n",
       "    }\n",
       "\n",
       "    .dataframe thead th {\n",
       "        text-align: right;\n",
       "    }\n",
       "</style>\n",
       "<table border=\"1\" class=\"dataframe\">\n",
       "  <thead>\n",
       "    <tr style=\"text-align: right;\">\n",
       "      <th></th>\n",
       "      <th>name</th>\n",
       "      <th>date</th>\n",
       "      <th>tweet</th>\n",
       "      <th>hashtags</th>\n",
       "      <th>replies_count</th>\n",
       "      <th>retweets_count</th>\n",
       "      <th>likes_count</th>\n",
       "    </tr>\n",
       "  </thead>\n",
       "  <tbody>\n",
       "    <tr>\n",
       "      <th>0</th>\n",
       "      <td>Shakira</td>\n",
       "      <td>2020-05-28</td>\n",
       "      <td>i believe that where you live shouldn t affect...</td>\n",
       "      <td>['#globalgoalunite']</td>\n",
       "      <td>124</td>\n",
       "      <td>487</td>\n",
       "      <td>2834</td>\n",
       "    </tr>\n",
       "    <tr>\n",
       "      <th>2</th>\n",
       "      <td>Shakira</td>\n",
       "      <td>2020-05-27</td>\n",
       "      <td>congratulations to my cousin isamebarak for he...</td>\n",
       "      <td>[]</td>\n",
       "      <td>30</td>\n",
       "      <td>115</td>\n",
       "      <td>1021</td>\n",
       "    </tr>\n",
       "    <tr>\n",
       "      <th>3</th>\n",
       "      <td>Shakira</td>\n",
       "      <td>2020-05-27</td>\n",
       "      <td>felicidades a mi prima hermana isamebarak por ...</td>\n",
       "      <td>[]</td>\n",
       "      <td>117</td>\n",
       "      <td>408</td>\n",
       "      <td>3387</td>\n",
       "    </tr>\n",
       "    <tr>\n",
       "      <th>5</th>\n",
       "      <td>Shakira</td>\n",
       "      <td>2020-05-25</td>\n",
       "      <td>just heard that the waka video has reached bil...</td>\n",
       "      <td>[]</td>\n",
       "      <td>788</td>\n",
       "      <td>3912</td>\n",
       "      <td>34161</td>\n",
       "    </tr>\n",
       "    <tr>\n",
       "      <th>8</th>\n",
       "      <td>Shakira</td>\n",
       "      <td>2020-05-20</td>\n",
       "      <td>who s excited about shak s special guest appea...</td>\n",
       "      <td>['#thevoice']</td>\n",
       "      <td>139</td>\n",
       "      <td>453</td>\n",
       "      <td>3817</td>\n",
       "    </tr>\n",
       "    <tr>\n",
       "      <th>9</th>\n",
       "      <td>Shakira</td>\n",
       "      <td>2020-05-15</td>\n",
       "      <td>felicidades de nuestro equipo fpiesdescalzos e...</td>\n",
       "      <td>['#díadelmaestro']</td>\n",
       "      <td>27</td>\n",
       "      <td>217</td>\n",
       "      <td>2180</td>\n",
       "    </tr>\n",
       "    <tr>\n",
       "      <th>10</th>\n",
       "      <td>Shakira</td>\n",
       "      <td>2020-05-15</td>\n",
       "      <td>los maestros son los pilares de la sociedad co...</td>\n",
       "      <td>[]</td>\n",
       "      <td>87</td>\n",
       "      <td>642</td>\n",
       "      <td>5492</td>\n",
       "    </tr>\n",
       "    <tr>\n",
       "      <th>11</th>\n",
       "      <td>Shakira</td>\n",
       "      <td>2020-05-14</td>\n",
       "      <td>mustered up the strength to put on some makeup...</td>\n",
       "      <td>['#smallvictories']</td>\n",
       "      <td>646</td>\n",
       "      <td>1326</td>\n",
       "      <td>26612</td>\n",
       "    </tr>\n",
       "    <tr>\n",
       "      <th>12</th>\n",
       "      <td>Shakira</td>\n",
       "      <td>2020-05-11</td>\n",
       "      <td>check out shak s performance of try everything...</td>\n",
       "      <td>['#disneyfamilysingalong', '#disneyfamilysinga...</td>\n",
       "      <td>162</td>\n",
       "      <td>787</td>\n",
       "      <td>4589</td>\n",
       "    </tr>\n",
       "    <tr>\n",
       "      <th>14</th>\n",
       "      <td>Shakira</td>\n",
       "      <td>2020-05-11</td>\n",
       "      <td>check out the disney family singalong today on...</td>\n",
       "      <td>['#disneyfamilysingalong']</td>\n",
       "      <td>179</td>\n",
       "      <td>576</td>\n",
       "      <td>5889</td>\n",
       "    </tr>\n",
       "  </tbody>\n",
       "</table>\n",
       "</div>"
      ],
      "text/plain": [
       "       name        date                                              tweet  \\\n",
       "0   Shakira  2020-05-28  i believe that where you live shouldn t affect...   \n",
       "2   Shakira  2020-05-27  congratulations to my cousin isamebarak for he...   \n",
       "3   Shakira  2020-05-27  felicidades a mi prima hermana isamebarak por ...   \n",
       "5   Shakira  2020-05-25  just heard that the waka video has reached bil...   \n",
       "8   Shakira  2020-05-20  who s excited about shak s special guest appea...   \n",
       "9   Shakira  2020-05-15  felicidades de nuestro equipo fpiesdescalzos e...   \n",
       "10  Shakira  2020-05-15  los maestros son los pilares de la sociedad co...   \n",
       "11  Shakira  2020-05-14  mustered up the strength to put on some makeup...   \n",
       "12  Shakira  2020-05-11  check out shak s performance of try everything...   \n",
       "14  Shakira  2020-05-11  check out the disney family singalong today on...   \n",
       "\n",
       "                                             hashtags  replies_count  \\\n",
       "0                                ['#globalgoalunite']            124   \n",
       "2                                                  []             30   \n",
       "3                                                  []            117   \n",
       "5                                                  []            788   \n",
       "8                                       ['#thevoice']            139   \n",
       "9                                  ['#díadelmaestro']             27   \n",
       "10                                                 []             87   \n",
       "11                                ['#smallvictories']            646   \n",
       "12  ['#disneyfamilysingalong', '#disneyfamilysinga...            162   \n",
       "14                         ['#disneyfamilysingalong']            179   \n",
       "\n",
       "    retweets_count  likes_count  \n",
       "0              487         2834  \n",
       "2              115         1021  \n",
       "3              408         3387  \n",
       "5             3912        34161  \n",
       "8              453         3817  \n",
       "9              217         2180  \n",
       "10             642         5492  \n",
       "11            1326        26612  \n",
       "12             787         4589  \n",
       "14             576         5889  "
      ]
     },
     "execution_count": 28,
     "metadata": {},
     "output_type": "execute_result"
    }
   ],
   "source": [
    "df[['name', 'date', 'tweet', 'hashtags', 'replies_count', 'retweets_count', 'likes_count']][:10]"
   ]
  },
  {
   "cell_type": "markdown",
   "metadata": {},
   "source": [
    "### Запись обработанных твитов в файл формата csv"
   ]
  },
  {
   "cell_type": "code",
   "execution_count": 27,
   "metadata": {},
   "outputs": [],
   "source": [
    "cleared_data_file = 'cleared_data.csv'"
   ]
  },
  {
   "cell_type": "code",
   "execution_count": 274,
   "metadata": {},
   "outputs": [],
   "source": [
    "df.to_csv(\"{}/{}\".format(data_path, cleared_data_file))"
   ]
  },
  {
   "cell_type": "markdown",
   "metadata": {},
   "source": [
    "### Просмотр и подсчет обработанных твитов "
   ]
  },
  {
   "cell_type": "code",
   "execution_count": 30,
   "metadata": {},
   "outputs": [
    {
     "name": "stderr",
     "output_type": "stream",
     "text": [
      "c:\\users\\lada\\appdata\\local\\programs\\python\\python38-32\\lib\\site-packages\\IPython\\core\\interactiveshell.py:3062: DtypeWarning: Columns (10,22) have mixed types.Specify dtype option on import or set low_memory=False.\n",
      "  has_raised = await self.run_ast_nodes(code_ast.body, cell_name,\n"
     ]
    }
   ],
   "source": [
    "df_cleared = pd.read_csv(\"{}/{}\".format(data_path, cleared_data_file))"
   ]
  },
  {
   "cell_type": "code",
   "execution_count": 31,
   "metadata": {},
   "outputs": [
    {
     "data": {
      "text/html": [
       "<div>\n",
       "<style scoped>\n",
       "    .dataframe tbody tr th:only-of-type {\n",
       "        vertical-align: middle;\n",
       "    }\n",
       "\n",
       "    .dataframe tbody tr th {\n",
       "        vertical-align: top;\n",
       "    }\n",
       "\n",
       "    .dataframe thead th {\n",
       "        text-align: right;\n",
       "    }\n",
       "</style>\n",
       "<table border=\"1\" class=\"dataframe\">\n",
       "  <thead>\n",
       "    <tr style=\"text-align: right;\">\n",
       "      <th></th>\n",
       "      <th>name</th>\n",
       "      <th>date</th>\n",
       "      <th>tweet</th>\n",
       "      <th>hashtags</th>\n",
       "      <th>replies_count</th>\n",
       "      <th>retweets_count</th>\n",
       "      <th>likes_count</th>\n",
       "    </tr>\n",
       "  </thead>\n",
       "  <tbody>\n",
       "    <tr>\n",
       "      <th>0</th>\n",
       "      <td>Shakira</td>\n",
       "      <td>2020-05-28</td>\n",
       "      <td>i believe that where you live shouldn t affect...</td>\n",
       "      <td>['#globalgoalunite']</td>\n",
       "      <td>124</td>\n",
       "      <td>487</td>\n",
       "      <td>2834</td>\n",
       "    </tr>\n",
       "    <tr>\n",
       "      <th>1</th>\n",
       "      <td>Shakira</td>\n",
       "      <td>2020-05-27</td>\n",
       "      <td>congratulations to my cousin isamebarak for he...</td>\n",
       "      <td>[]</td>\n",
       "      <td>30</td>\n",
       "      <td>115</td>\n",
       "      <td>1021</td>\n",
       "    </tr>\n",
       "    <tr>\n",
       "      <th>2</th>\n",
       "      <td>Shakira</td>\n",
       "      <td>2020-05-27</td>\n",
       "      <td>felicidades a mi prima hermana isamebarak por ...</td>\n",
       "      <td>[]</td>\n",
       "      <td>117</td>\n",
       "      <td>408</td>\n",
       "      <td>3387</td>\n",
       "    </tr>\n",
       "    <tr>\n",
       "      <th>3</th>\n",
       "      <td>Shakira</td>\n",
       "      <td>2020-05-25</td>\n",
       "      <td>just heard that the waka video has reached bil...</td>\n",
       "      <td>[]</td>\n",
       "      <td>788</td>\n",
       "      <td>3912</td>\n",
       "      <td>34161</td>\n",
       "    </tr>\n",
       "    <tr>\n",
       "      <th>4</th>\n",
       "      <td>Shakira</td>\n",
       "      <td>2020-05-20</td>\n",
       "      <td>who s excited about shak s special guest appea...</td>\n",
       "      <td>['#thevoice']</td>\n",
       "      <td>139</td>\n",
       "      <td>453</td>\n",
       "      <td>3817</td>\n",
       "    </tr>\n",
       "    <tr>\n",
       "      <th>...</th>\n",
       "      <td>...</td>\n",
       "      <td>...</td>\n",
       "      <td>...</td>\n",
       "      <td>...</td>\n",
       "      <td>...</td>\n",
       "      <td>...</td>\n",
       "      <td>...</td>\n",
       "    </tr>\n",
       "    <tr>\n",
       "      <th>100228</th>\n",
       "      <td>Barack Obama</td>\n",
       "      <td>2012-11-06</td>\n",
       "      <td>time to vote grab a friend to join you and hea...</td>\n",
       "      <td>[]</td>\n",
       "      <td>442</td>\n",
       "      <td>4573</td>\n",
       "      <td>1640</td>\n",
       "    </tr>\n",
       "    <tr>\n",
       "      <th>100229</th>\n",
       "      <td>Barack Obama</td>\n",
       "      <td>2012-11-06</td>\n",
       "      <td>at the final rally of his final campaign last ...</td>\n",
       "      <td>[]</td>\n",
       "      <td>213</td>\n",
       "      <td>1348</td>\n",
       "      <td>492</td>\n",
       "    </tr>\n",
       "    <tr>\n",
       "      <th>100230</th>\n",
       "      <td>Barack Obama</td>\n",
       "      <td>2012-11-06</td>\n",
       "      <td>it s election day this is your last chance to ...</td>\n",
       "      <td>[]</td>\n",
       "      <td>456</td>\n",
       "      <td>8550</td>\n",
       "      <td>677</td>\n",
       "    </tr>\n",
       "    <tr>\n",
       "      <th>100231</th>\n",
       "      <td>Barack Obama</td>\n",
       "      <td>2012-11-06</td>\n",
       "      <td>election day is here confirm your polling plac...</td>\n",
       "      <td>[]</td>\n",
       "      <td>726</td>\n",
       "      <td>6121</td>\n",
       "      <td>1778</td>\n",
       "    </tr>\n",
       "    <tr>\n",
       "      <th>100232</th>\n",
       "      <td>Barack Obama</td>\n",
       "      <td>2012-11-06</td>\n",
       "      <td>president obama tells the story of fired up re...</td>\n",
       "      <td>['#forward']</td>\n",
       "      <td>378</td>\n",
       "      <td>1826</td>\n",
       "      <td>704</td>\n",
       "    </tr>\n",
       "  </tbody>\n",
       "</table>\n",
       "<p>100233 rows × 7 columns</p>\n",
       "</div>"
      ],
      "text/plain": [
       "                name        date  \\\n",
       "0            Shakira  2020-05-28   \n",
       "1            Shakira  2020-05-27   \n",
       "2            Shakira  2020-05-27   \n",
       "3            Shakira  2020-05-25   \n",
       "4            Shakira  2020-05-20   \n",
       "...              ...         ...   \n",
       "100228  Barack Obama  2012-11-06   \n",
       "100229  Barack Obama  2012-11-06   \n",
       "100230  Barack Obama  2012-11-06   \n",
       "100231  Barack Obama  2012-11-06   \n",
       "100232  Barack Obama  2012-11-06   \n",
       "\n",
       "                                                    tweet  \\\n",
       "0       i believe that where you live shouldn t affect...   \n",
       "1       congratulations to my cousin isamebarak for he...   \n",
       "2       felicidades a mi prima hermana isamebarak por ...   \n",
       "3       just heard that the waka video has reached bil...   \n",
       "4       who s excited about shak s special guest appea...   \n",
       "...                                                   ...   \n",
       "100228  time to vote grab a friend to join you and hea...   \n",
       "100229  at the final rally of his final campaign last ...   \n",
       "100230  it s election day this is your last chance to ...   \n",
       "100231  election day is here confirm your polling plac...   \n",
       "100232  president obama tells the story of fired up re...   \n",
       "\n",
       "                    hashtags  replies_count  retweets_count  likes_count  \n",
       "0       ['#globalgoalunite']            124             487         2834  \n",
       "1                         []             30             115         1021  \n",
       "2                         []            117             408         3387  \n",
       "3                         []            788            3912        34161  \n",
       "4              ['#thevoice']            139             453         3817  \n",
       "...                      ...            ...             ...          ...  \n",
       "100228                    []            442            4573         1640  \n",
       "100229                    []            213            1348          492  \n",
       "100230                    []            456            8550          677  \n",
       "100231                    []            726            6121         1778  \n",
       "100232          ['#forward']            378            1826          704  \n",
       "\n",
       "[100233 rows x 7 columns]"
      ]
     },
     "execution_count": 31,
     "metadata": {},
     "output_type": "execute_result"
    }
   ],
   "source": [
    "df_cleared[['name', 'date', 'tweet', 'hashtags', 'replies_count', 'retweets_count', 'likes_count']]"
   ]
  },
  {
   "cell_type": "code",
   "execution_count": 33,
   "metadata": {},
   "outputs": [
    {
     "data": {
      "text/plain": [
       "name\n",
       "Ariana Grande           3312\n",
       "Barack Obama            6230\n",
       "Britney Spears          2924\n",
       "CNN Breaking News      11840\n",
       "Cristiano Ronaldo       1894\n",
       "Donald J. Trump         9568\n",
       "Ellen DeGeneres         7912\n",
       "Justin Bieber           3560\n",
       "Justin Timberlake       2005\n",
       "KATY PERRY              6098\n",
       "Kim Kardashian West     4465\n",
       "Lady Gaga               5320\n",
       "Narendra Modi          10481\n",
       "Rihanna                 4445\n",
       "Selena Gomez            2137\n",
       "Shakira                 4283\n",
       "Taylor Swift             279\n",
       "Team Demi               6341\n",
       "Twitter                 1687\n",
       "YouTube                 5452\n",
       "dtype: int64"
      ]
     },
     "execution_count": 33,
     "metadata": {},
     "output_type": "execute_result"
    }
   ],
   "source": [
    "get_total_number_of_docs_by_users(df_cleared)"
   ]
  }
 ],
 "metadata": {
  "kernelspec": {
   "display_name": "Python 3",
   "language": "python",
   "name": "python3"
  },
  "language_info": {
   "codemirror_mode": {
    "name": "ipython",
    "version": 3
   },
   "file_extension": ".py",
   "mimetype": "text/x-python",
   "name": "python",
   "nbconvert_exporter": "python",
   "pygments_lexer": "ipython3",
   "version": "3.8.2"
  }
 },
 "nbformat": 4,
 "nbformat_minor": 4
}
