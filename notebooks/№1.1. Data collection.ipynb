{
 "cells": [
  {
   "cell_type": "code",
   "execution_count": 45,
   "metadata": {},
   "outputs": [],
   "source": [
    "import bs4 as bs\n",
    "import urllib.request\n",
    "import re\n",
    "import pandas as pd\n",
    "import twint\n",
    "# Solve compatibility issues with notebooks and RunTime errors.\n",
    "import nest_asyncio\n",
    "nest_asyncio.apply()"
   ]
  },
  {
   "cell_type": "markdown",
   "metadata": {},
   "source": [
    "### Получение массива ссылок на твиттеры пользователей с источника данных"
   ]
  },
  {
   "cell_type": "code",
   "execution_count": 4,
   "metadata": {},
   "outputs": [],
   "source": [
    "def get_soup(link):\n",
    "    source = urllib.request.urlopen(link).read()\n",
    "    soup = bs.BeautifulSoup(source, \"lxml\")\n",
    "    return soup"
   ]
  },
  {
   "cell_type": "code",
   "execution_count": 5,
   "metadata": {},
   "outputs": [],
   "source": [
    "def get_twitters(source_link):\n",
    "    source_soup = get_soup(source_link)\n",
    "    links = []\n",
    "    regex_twitter = re.compile(\"https://twitter.com/[a-z0-9-]+$\", re.IGNORECASE)\n",
    "    for a in source_soup.find_all('a', href = regex_twitter):\n",
    "        links.append(a.get(\"href\"))\n",
    "    return links"
   ]
  },
  {
   "cell_type": "code",
   "execution_count": 6,
   "metadata": {},
   "outputs": [],
   "source": [
    "DATA_SOURCE_LINK = \"https://www.brandwatch.com/blog/most-twitter-followers/\""
   ]
  },
  {
   "cell_type": "code",
   "execution_count": 7,
   "metadata": {},
   "outputs": [
    {
     "data": {
      "text/plain": [
       "['https://twitter.com/shakira',\n",
       " 'https://twitter.com/ddlovato',\n",
       " 'https://twitter.com/britneyspears',\n",
       " 'https://twitter.com/narendramodi',\n",
       " 'https://twitter.com/cnnbrk',\n",
       " 'https://twitter.com/Twitter',\n",
       " 'https://twitter.com/selenagomez',\n",
       " 'https://twitter.com/jtimberlake',\n",
       " 'https://twitter.com/KimKardashian',\n",
       " 'https://twitter.com/YouTube',\n",
       " 'https://twitter.com/ArianaGrande',\n",
       " 'https://twitter.com/realDonaldTrump',\n",
       " 'https://twitter.com/TheEllenShow',\n",
       " 'https://twitter.com/ladygaga',\n",
       " 'https://twitter.com/Cristiano',\n",
       " 'https://twitter.com/taylorswift13',\n",
       " 'https://twitter.com/rihanna',\n",
       " 'https://twitter.com/katyperry',\n",
       " 'https://twitter.com/justinbieber',\n",
       " 'https://twitter.com/BarackObama']"
      ]
     },
     "execution_count": 7,
     "metadata": {},
     "output_type": "execute_result"
    }
   ],
   "source": [
    "twitter_links = get_twitters(DATA_SOURCE_LINK)\n",
    "twitter_links"
   ]
  },
  {
   "cell_type": "markdown",
   "metadata": {},
   "source": [
    "### Получение массива имен пользователей"
   ]
  },
  {
   "cell_type": "code",
   "execution_count": 8,
   "metadata": {},
   "outputs": [],
   "source": [
    "def get_user_names(user_twitters):\n",
    "    user_names = []\n",
    "    for twitter in user_twitters:\n",
    "        user_name = twitter[20:]\n",
    "        user_names.append(user_name)\n",
    "    return user_names"
   ]
  },
  {
   "cell_type": "code",
   "execution_count": 9,
   "metadata": {},
   "outputs": [
    {
     "data": {
      "text/plain": [
       "['shakira',\n",
       " 'ddlovato',\n",
       " 'britneyspears',\n",
       " 'narendramodi',\n",
       " 'cnnbrk',\n",
       " 'Twitter',\n",
       " 'selenagomez',\n",
       " 'jtimberlake',\n",
       " 'KimKardashian',\n",
       " 'YouTube',\n",
       " 'ArianaGrande',\n",
       " 'realDonaldTrump',\n",
       " 'TheEllenShow',\n",
       " 'ladygaga',\n",
       " 'Cristiano',\n",
       " 'taylorswift13',\n",
       " 'rihanna',\n",
       " 'katyperry',\n",
       " 'justinbieber',\n",
       " 'BarackObama']"
      ]
     },
     "execution_count": 9,
     "metadata": {},
     "output_type": "execute_result"
    }
   ],
   "source": [
    "usernames = get_user_names(twitter_links)\n",
    "usernames"
   ]
  },
  {
   "cell_type": "markdown",
   "metadata": {},
   "source": [
    "### Запись в файл и чтение из файла массива имен пользователей"
   ]
  },
  {
   "cell_type": "code",
   "execution_count": 47,
   "metadata": {},
   "outputs": [],
   "source": [
    "PATH = \"C:/Users/LADA/Inf_Search\""
   ]
  },
  {
   "cell_type": "code",
   "execution_count": 48,
   "metadata": {},
   "outputs": [],
   "source": [
    "data_path = \"{}/{}\".format(PATH, \"data\")"
   ]
  },
  {
   "cell_type": "code",
   "execution_count": 11,
   "metadata": {},
   "outputs": [],
   "source": [
    "def set_array_to_file(array, file):\n",
    "    with open(file, 'w') as filehandle: \n",
    "        for item in array:\n",
    "            filehandle.write('%s\\n' % item)"
   ]
  },
  {
   "cell_type": "code",
   "execution_count": 12,
   "metadata": {},
   "outputs": [],
   "source": [
    "def get_array_from_file(file):\n",
    "    array = []\n",
    "    with open(file, 'r') as filehandle:\n",
    "        for line in filehandle:\n",
    "            currentItem = line[:-1]\n",
    "            array.append(currentItem)\n",
    "    return array"
   ]
  },
  {
   "cell_type": "code",
   "execution_count": 49,
   "metadata": {},
   "outputs": [],
   "source": [
    "users_file = \"{}/{}.txt\".format(data_path, \"usernames\")"
   ]
  },
  {
   "cell_type": "code",
   "execution_count": 25,
   "metadata": {},
   "outputs": [],
   "source": [
    "set_array_to_file(usernames, users_file)"
   ]
  },
  {
   "cell_type": "code",
   "execution_count": 27,
   "metadata": {},
   "outputs": [
    {
     "data": {
      "text/plain": [
       "['shakira',\n",
       " 'ddlovato',\n",
       " 'britneyspears',\n",
       " 'narendramodi',\n",
       " 'cnnbrk',\n",
       " 'Twitter',\n",
       " 'selenagomez',\n",
       " 'jtimberlake',\n",
       " 'KimKardashian',\n",
       " 'YouTube',\n",
       " 'ArianaGrande',\n",
       " 'realDonaldTrump',\n",
       " 'TheEllenShow',\n",
       " 'ladygaga',\n",
       " 'Cristiano',\n",
       " 'taylorswift13',\n",
       " 'rihanna',\n",
       " 'katyperry',\n",
       " 'justinbieber',\n",
       " 'BarackObama']"
      ]
     },
     "execution_count": 27,
     "metadata": {},
     "output_type": "execute_result"
    }
   ],
   "source": [
    "users = get_array_from_file(users_file)\n",
    "users"
   ]
  },
  {
   "cell_type": "markdown",
   "metadata": {},
   "source": [
    "### Получение твитов пользователей в виде файла формата csv"
   ]
  },
  {
   "cell_type": "code",
   "execution_count": 20,
   "metadata": {},
   "outputs": [],
   "source": [
    "def get_tweets(usernames, path, file_name):\n",
    "    for username in usernames:\n",
    "        c = twint.Config()\n",
    "        c.Username = username\n",
    "        c.Limit = 12000\n",
    "        c.Store_csv = True\n",
    "        c.Output = \"{}/{}.csv\".format(path, file_name)\n",
    "        c.Hide_output = True\n",
    "        twint.run.Search(c)"
   ]
  },
  {
   "cell_type": "code",
   "execution_count": 21,
   "metadata": {},
   "outputs": [],
   "source": [
    "initial_data_file_name = 'initial_data'"
   ]
  },
  {
   "cell_type": "code",
   "execution_count": 22,
   "metadata": {},
   "outputs": [
    {
     "name": "stderr",
     "output_type": "stream",
     "text": [
      "CRITICAL:root:twint.run:Twint:Feed:noDataExpecting value: line 1 column 1 (char 0)\n",
      "sleeping for 1.0 secs\n",
      "CRITICAL:root:twint.run:Twint:Feed:noDataExpecting value: line 1 column 1 (char 0)\n",
      "sleeping for 1.0 secs\n",
      "CRITICAL:root:twint.run:Twint:Feed:noDataExpecting value: line 1 column 1 (char 0)\n",
      "sleeping for 1.0 secs\n",
      "CRITICAL:root:twint.run:Twint:Feed:noDataExpecting value: line 1 column 1 (char 0)\n",
      "sleeping for 1.0 secs\n",
      "CRITICAL:root:twint.run:Twint:Feed:noDataExpecting value: line 1 column 1 (char 0)\n",
      "sleeping for 1.0 secs\n",
      "CRITICAL:root:twint.run:Twint:Feed:noDataExpecting value: line 1 column 1 (char 0)\n",
      "sleeping for 1.0 secs\n",
      "CRITICAL:root:twint.run:Twint:Feed:noDataExpecting value: line 1 column 1 (char 0)\n",
      "sleeping for 1.0 secs\n",
      "CRITICAL:root:twint.run:Twint:Feed:noDataExpecting value: line 1 column 1 (char 0)\n",
      "sleeping for 1.0 secs\n",
      "CRITICAL:root:twint.run:Twint:Feed:noDataExpecting value: line 1 column 1 (char 0)\n",
      "sleeping for 1.0 secs\n",
      "CRITICAL:root:twint.run:Twint:Feed:noDataExpecting value: line 1 column 1 (char 0)\n",
      "sleeping for 1.0 secs\n"
     ]
    }
   ],
   "source": [
    "get_tweets(users, data_path, initial_data_file_name)"
   ]
  },
  {
   "cell_type": "markdown",
   "metadata": {},
   "source": [
    "### Просмотр исходной коллекции данных"
   ]
  },
  {
   "cell_type": "code",
   "execution_count": 50,
   "metadata": {},
   "outputs": [
    {
     "name": "stderr",
     "output_type": "stream",
     "text": [
      "c:\\users\\lada\\appdata\\local\\programs\\python\\python38-32\\lib\\site-packages\\IPython\\core\\interactiveshell.py:3062: DtypeWarning: Columns (9) have mixed types.Specify dtype option on import or set low_memory=False.\n",
      "  has_raised = await self.run_ast_nodes(code_ast.body, cell_name,\n"
     ]
    }
   ],
   "source": [
    "tweets = pd.read_csv(\"{}/{}.csv\".format(data_path, initial_data_file_name))"
   ]
  },
  {
   "cell_type": "code",
   "execution_count": 51,
   "metadata": {},
   "outputs": [
    {
     "data": {
      "text/plain": [
       "Index(['id', 'conversation_id', 'created_at', 'date', 'time', 'timezone',\n",
       "       'user_id', 'username', 'name', 'place', 'tweet', 'mentions', 'urls',\n",
       "       'photos', 'replies_count', 'retweets_count', 'likes_count', 'hashtags',\n",
       "       'cashtags', 'link', 'retweet', 'quote_url', 'video', 'near', 'geo',\n",
       "       'source', 'user_rt_id', 'user_rt', 'retweet_id', 'reply_to',\n",
       "       'retweet_date', 'translate', 'trans_src', 'trans_dest'],\n",
       "      dtype='object')"
      ]
     },
     "execution_count": 51,
     "metadata": {},
     "output_type": "execute_result"
    }
   ],
   "source": [
    "tweets.columns"
   ]
  },
  {
   "cell_type": "code",
   "execution_count": 52,
   "metadata": {},
   "outputs": [
    {
     "data": {
      "text/html": [
       "<div>\n",
       "<style scoped>\n",
       "    .dataframe tbody tr th:only-of-type {\n",
       "        vertical-align: middle;\n",
       "    }\n",
       "\n",
       "    .dataframe tbody tr th {\n",
       "        vertical-align: top;\n",
       "    }\n",
       "\n",
       "    .dataframe thead th {\n",
       "        text-align: right;\n",
       "    }\n",
       "</style>\n",
       "<table border=\"1\" class=\"dataframe\">\n",
       "  <thead>\n",
       "    <tr style=\"text-align: right;\">\n",
       "      <th></th>\n",
       "      <th>name</th>\n",
       "      <th>date</th>\n",
       "      <th>tweet</th>\n",
       "      <th>hashtags</th>\n",
       "      <th>replies_count</th>\n",
       "      <th>retweets_count</th>\n",
       "      <th>likes_count</th>\n",
       "    </tr>\n",
       "  </thead>\n",
       "  <tbody>\n",
       "    <tr>\n",
       "      <th>0</th>\n",
       "      <td>Shakira</td>\n",
       "      <td>2020-05-28</td>\n",
       "      <td>I believe that where you live shouldn’t affect...</td>\n",
       "      <td>['#globalgoalunite']</td>\n",
       "      <td>124</td>\n",
       "      <td>487</td>\n",
       "      <td>2834</td>\n",
       "    </tr>\n",
       "    <tr>\n",
       "      <th>1</th>\n",
       "      <td>Shakira</td>\n",
       "      <td>2020-05-27</td>\n",
       "      <td>Y yo a ti!!!😘</td>\n",
       "      <td>[]</td>\n",
       "      <td>29</td>\n",
       "      <td>48</td>\n",
       "      <td>382</td>\n",
       "    </tr>\n",
       "    <tr>\n",
       "      <th>2</th>\n",
       "      <td>Shakira</td>\n",
       "      <td>2020-05-27</td>\n",
       "      <td>Congratulations to my cousin @IsaMebarak for h...</td>\n",
       "      <td>[]</td>\n",
       "      <td>30</td>\n",
       "      <td>115</td>\n",
       "      <td>1021</td>\n",
       "    </tr>\n",
       "    <tr>\n",
       "      <th>3</th>\n",
       "      <td>Shakira</td>\n",
       "      <td>2020-05-27</td>\n",
       "      <td>Felicidades a mi prima hermana @isamebarak por...</td>\n",
       "      <td>[]</td>\n",
       "      <td>117</td>\n",
       "      <td>408</td>\n",
       "      <td>3387</td>\n",
       "    </tr>\n",
       "    <tr>\n",
       "      <th>4</th>\n",
       "      <td>Shakira</td>\n",
       "      <td>2020-05-26</td>\n",
       "      <td>I’ve read your tweets bosses! \\nI’m on it! 😘 p...</td>\n",
       "      <td>[]</td>\n",
       "      <td>1689</td>\n",
       "      <td>3175</td>\n",
       "      <td>45903</td>\n",
       "    </tr>\n",
       "    <tr>\n",
       "      <th>...</th>\n",
       "      <td>...</td>\n",
       "      <td>...</td>\n",
       "      <td>...</td>\n",
       "      <td>...</td>\n",
       "      <td>...</td>\n",
       "      <td>...</td>\n",
       "      <td>...</td>\n",
       "    </tr>\n",
       "    <tr>\n",
       "      <th>175580</th>\n",
       "      <td>Barack Obama</td>\n",
       "      <td>2012-11-06</td>\n",
       "      <td>25 reasons that 25 people are voting for Presi...</td>\n",
       "      <td>[]</td>\n",
       "      <td>265</td>\n",
       "      <td>2608</td>\n",
       "      <td>554</td>\n",
       "    </tr>\n",
       "    <tr>\n",
       "      <th>175581</th>\n",
       "      <td>Barack Obama</td>\n",
       "      <td>2012-11-06</td>\n",
       "      <td>At the final rally of his final campaign last ...</td>\n",
       "      <td>[]</td>\n",
       "      <td>213</td>\n",
       "      <td>1348</td>\n",
       "      <td>492</td>\n",
       "    </tr>\n",
       "    <tr>\n",
       "      <th>175582</th>\n",
       "      <td>Barack Obama</td>\n",
       "      <td>2012-11-06</td>\n",
       "      <td>It’s Election Day! This is your last chance to...</td>\n",
       "      <td>[]</td>\n",
       "      <td>456</td>\n",
       "      <td>8550</td>\n",
       "      <td>677</td>\n",
       "    </tr>\n",
       "    <tr>\n",
       "      <th>175583</th>\n",
       "      <td>Barack Obama</td>\n",
       "      <td>2012-11-06</td>\n",
       "      <td>Election Day is here! Confirm your polling pla...</td>\n",
       "      <td>[]</td>\n",
       "      <td>726</td>\n",
       "      <td>6121</td>\n",
       "      <td>1778</td>\n",
       "    </tr>\n",
       "    <tr>\n",
       "      <th>175584</th>\n",
       "      <td>Barack Obama</td>\n",
       "      <td>2012-11-06</td>\n",
       "      <td>President Obama tells the story of \"Fired up! ...</td>\n",
       "      <td>['#forward']</td>\n",
       "      <td>378</td>\n",
       "      <td>1826</td>\n",
       "      <td>704</td>\n",
       "    </tr>\n",
       "  </tbody>\n",
       "</table>\n",
       "<p>175585 rows × 7 columns</p>\n",
       "</div>"
      ],
      "text/plain": [
       "                name        date  \\\n",
       "0            Shakira  2020-05-28   \n",
       "1            Shakira  2020-05-27   \n",
       "2            Shakira  2020-05-27   \n",
       "3            Shakira  2020-05-27   \n",
       "4            Shakira  2020-05-26   \n",
       "...              ...         ...   \n",
       "175580  Barack Obama  2012-11-06   \n",
       "175581  Barack Obama  2012-11-06   \n",
       "175582  Barack Obama  2012-11-06   \n",
       "175583  Barack Obama  2012-11-06   \n",
       "175584  Barack Obama  2012-11-06   \n",
       "\n",
       "                                                    tweet  \\\n",
       "0       I believe that where you live shouldn’t affect...   \n",
       "1                                           Y yo a ti!!!😘   \n",
       "2       Congratulations to my cousin @IsaMebarak for h...   \n",
       "3       Felicidades a mi prima hermana @isamebarak por...   \n",
       "4       I’ve read your tweets bosses! \\nI’m on it! 😘 p...   \n",
       "...                                                   ...   \n",
       "175580  25 reasons that 25 people are voting for Presi...   \n",
       "175581  At the final rally of his final campaign last ...   \n",
       "175582  It’s Election Day! This is your last chance to...   \n",
       "175583  Election Day is here! Confirm your polling pla...   \n",
       "175584  President Obama tells the story of \"Fired up! ...   \n",
       "\n",
       "                    hashtags  replies_count  retweets_count  likes_count  \n",
       "0       ['#globalgoalunite']            124             487         2834  \n",
       "1                         []             29              48          382  \n",
       "2                         []             30             115         1021  \n",
       "3                         []            117             408         3387  \n",
       "4                         []           1689            3175        45903  \n",
       "...                      ...            ...             ...          ...  \n",
       "175580                    []            265            2608          554  \n",
       "175581                    []            213            1348          492  \n",
       "175582                    []            456            8550          677  \n",
       "175583                    []            726            6121         1778  \n",
       "175584          ['#forward']            378            1826          704  \n",
       "\n",
       "[175585 rows x 7 columns]"
      ]
     },
     "execution_count": 52,
     "metadata": {},
     "output_type": "execute_result"
    }
   ],
   "source": [
    "tweets[['name', 'date', 'tweet', 'hashtags', 'replies_count', 'retweets_count', 'likes_count']]"
   ]
  },
  {
   "cell_type": "markdown",
   "metadata": {},
   "source": [
    "### Подсчет документов в исходной коллекции данных"
   ]
  },
  {
   "cell_type": "code",
   "execution_count": 53,
   "metadata": {},
   "outputs": [
    {
     "data": {
      "text/plain": [
       "175585"
      ]
     },
     "execution_count": 53,
     "metadata": {},
     "output_type": "execute_result"
    }
   ],
   "source": [
    "tweets.shape[0]"
   ]
  },
  {
   "cell_type": "code",
   "execution_count": 54,
   "metadata": {},
   "outputs": [
    {
     "data": {
      "text/plain": [
       "name\n",
       "Ariana Grande          12019\n",
       "Barack Obama            7088\n",
       "Britney Spears          5124\n",
       "CNN Breaking News      12000\n",
       "Cristiano Ronaldo       3268\n",
       "Donald J. Trump        12000\n",
       "Ellen DeGeneres        12000\n",
       "Justin Bieber          12000\n",
       "Justin Timberlake       3321\n",
       "KATY PERRY             10174\n",
       "Kim Kardashian West    12000\n",
       "Lady Gaga               7712\n",
       "Narendra Modi          12000\n",
       "Rihanna                 9638\n",
       "Selena Gomez            4292\n",
       "Shakira                 5438\n",
       "Taylor Swift             542\n",
       "Team Demi              12000\n",
       "Twitter                10969\n",
       "YouTube                12000\n",
       "dtype: int64"
      ]
     },
     "execution_count": 54,
     "metadata": {},
     "output_type": "execute_result"
    }
   ],
   "source": [
    "tweets.groupby('name').size()"
   ]
  },
  {
   "cell_type": "code",
   "execution_count": null,
   "metadata": {},
   "outputs": [],
   "source": []
  }
 ],
 "metadata": {
  "kernelspec": {
   "display_name": "Python 3",
   "language": "python",
   "name": "python3"
  },
  "language_info": {
   "codemirror_mode": {
    "name": "ipython",
    "version": 3
   },
   "file_extension": ".py",
   "mimetype": "text/x-python",
   "name": "python",
   "nbconvert_exporter": "python",
   "pygments_lexer": "ipython3",
   "version": "3.8.2"
  }
 },
 "nbformat": 4,
 "nbformat_minor": 4
}
