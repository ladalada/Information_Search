{
 "cells": [
  {
   "cell_type": "markdown",
   "metadata": {},
   "source": [
    "# №1. Сбор данных, реализация скриптов для чистки данных\n",
    "\n",
    "Выполнение №1 разбито на 2 части:\n",
    "* №1.1 - сбор данных;\n",
    "* №1.2 - чистка данных.\n",
    "\n",
    "## №1.2.  Чистка данных (продолжение)\n",
    "\n",
    "Продолжение выполнения очистки документов от не релевантной информации:\n",
    "* удаление стоп-слов;\n",
    "* выбор признаков документа.\n",
    "\n",
    "После проведенной обработки размер текста для каждого твита должен быть **от 50** символов. \n",
    "\n",
    "Объем собранной коллекции не менее **100 тысяч** уникальных документов:\n",
    "* до чистки 175.585 документов;\n",
    "* после первичной очистки 100.233 документа;\n",
    "* после удаления стоп-слов 79.995 документов.\n",
    "\n",
    "Результатом является: \n",
    "* инструмент очистки текстов от стоп-слов;  \n",
    "* коллекция документов после удаления стоп-слов."
   ]
  },
  {
   "cell_type": "code",
   "execution_count": 115,
   "metadata": {},
   "outputs": [],
   "source": [
    "import pandas as pd\n",
    "import nltk\n",
    "from nltk.corpus import stopwords\n",
    "from nltk.corpus import stopwords"
   ]
  },
  {
   "cell_type": "markdown",
   "metadata": {},
   "source": [
    "### Загрузка коллекции документов после первичной очистки"
   ]
  },
  {
   "cell_type": "code",
   "execution_count": 116,
   "metadata": {},
   "outputs": [],
   "source": [
    "PATH = \"C:/Users/LADA/Inf_Search\"\n",
    "data_path = \"{}/{}\".format(PATH, \"data\")"
   ]
  },
  {
   "cell_type": "code",
   "execution_count": 117,
   "metadata": {},
   "outputs": [],
   "source": [
    "first_cleared_data_file = 'cleared_data.csv'"
   ]
  },
  {
   "cell_type": "code",
   "execution_count": 118,
   "metadata": {},
   "outputs": [],
   "source": [
    "df = pd.read_csv(\"{}/{}\".format(data_path, first_cleared_data_file))"
   ]
  },
  {
   "cell_type": "code",
   "execution_count": 119,
   "metadata": {},
   "outputs": [
    {
     "data": {
      "text/plain": [
       "Index(['Unnamed: 0', 'id', 'conversation_id', 'created_at', 'date', 'time',\n",
       "       'timezone', 'user_id', 'username', 'name', 'place', 'tweet', 'mentions',\n",
       "       'urls', 'photos', 'replies_count', 'retweets_count', 'likes_count',\n",
       "       'hashtags', 'cashtags', 'link', 'retweet', 'quote_url', 'video', 'near',\n",
       "       'geo', 'source', 'user_rt_id', 'user_rt', 'retweet_id', 'reply_to',\n",
       "       'retweet_date', 'translate', 'trans_src', 'trans_dest'],\n",
       "      dtype='object')"
      ]
     },
     "execution_count": 119,
     "metadata": {},
     "output_type": "execute_result"
    }
   ],
   "source": [
    "df.columns"
   ]
  },
  {
   "cell_type": "code",
   "execution_count": 120,
   "metadata": {},
   "outputs": [],
   "source": [
    "# Переименование столбца с первоначальным номером документа\n",
    "df.rename(columns=lambda x: x.replace('Unnamed: 0', 'initial_num'), inplace=True)"
   ]
  },
  {
   "cell_type": "code",
   "execution_count": 121,
   "metadata": {},
   "outputs": [
    {
     "data": {
      "text/plain": [
       "Index(['initial_num', 'id', 'conversation_id', 'created_at', 'date', 'time',\n",
       "       'timezone', 'user_id', 'username', 'name', 'place', 'tweet', 'mentions',\n",
       "       'urls', 'photos', 'replies_count', 'retweets_count', 'likes_count',\n",
       "       'hashtags', 'cashtags', 'link', 'retweet', 'quote_url', 'video', 'near',\n",
       "       'geo', 'source', 'user_rt_id', 'user_rt', 'retweet_id', 'reply_to',\n",
       "       'retweet_date', 'translate', 'trans_src', 'trans_dest'],\n",
       "      dtype='object')"
      ]
     },
     "execution_count": 121,
     "metadata": {},
     "output_type": "execute_result"
    }
   ],
   "source": [
    "df.columns"
   ]
  },
  {
   "cell_type": "markdown",
   "metadata": {},
   "source": [
    "### Подсчет документов в коллекции до удаления стоп-слов"
   ]
  },
  {
   "cell_type": "code",
   "execution_count": 122,
   "metadata": {},
   "outputs": [],
   "source": [
    "def get_total_number_of_docs(dataframe):\n",
    "    return dataframe.shape[0]\n",
    "\n",
    "def get_total_number_of_docs_by_users(dataframe):\n",
    "    return dataframe.groupby('name').size()"
   ]
  },
  {
   "cell_type": "code",
   "execution_count": 123,
   "metadata": {},
   "outputs": [
    {
     "data": {
      "text/plain": [
       "100233"
      ]
     },
     "execution_count": 123,
     "metadata": {},
     "output_type": "execute_result"
    }
   ],
   "source": [
    "get_total_number_of_docs(df)"
   ]
  },
  {
   "cell_type": "code",
   "execution_count": 124,
   "metadata": {},
   "outputs": [
    {
     "data": {
      "text/plain": [
       "name\n",
       "Ariana Grande           3312\n",
       "Barack Obama            6230\n",
       "Britney Spears          2924\n",
       "CNN Breaking News      11840\n",
       "Cristiano Ronaldo       1894\n",
       "Donald J. Trump         9568\n",
       "Ellen DeGeneres         7912\n",
       "Justin Bieber           3560\n",
       "Justin Timberlake       2005\n",
       "KATY PERRY              6098\n",
       "Kim Kardashian West     4465\n",
       "Lady Gaga               5320\n",
       "Narendra Modi          10481\n",
       "Rihanna                 4445\n",
       "Selena Gomez            2137\n",
       "Shakira                 4283\n",
       "Taylor Swift             279\n",
       "Team Demi               6341\n",
       "Twitter                 1687\n",
       "YouTube                 5452\n",
       "dtype: int64"
      ]
     },
     "execution_count": 124,
     "metadata": {},
     "output_type": "execute_result"
    }
   ],
   "source": [
    "get_total_number_of_docs_by_users(df)"
   ]
  },
  {
   "cell_type": "markdown",
   "metadata": {},
   "source": [
    "### Удаление стоп-слов из текста твитов"
   ]
  },
  {
   "cell_type": "code",
   "execution_count": 125,
   "metadata": {},
   "outputs": [
    {
     "name": "stderr",
     "output_type": "stream",
     "text": [
      "[nltk_data] Downloading package punkt to\n",
      "[nltk_data]     C:\\Users\\LADA\\AppData\\Roaming\\nltk_data...\n",
      "[nltk_data]   Package punkt is already up-to-date!\n",
      "[nltk_data] Downloading package stopwords to\n",
      "[nltk_data]     C:\\Users\\LADA\\AppData\\Roaming\\nltk_data...\n",
      "[nltk_data]   Package stopwords is already up-to-date!\n"
     ]
    }
   ],
   "source": [
    "nltk.download(['punkt','stopwords'])\n",
    "stop_words = set(stopwords.words(\"english\"))"
   ]
  },
  {
   "cell_type": "code",
   "execution_count": 126,
   "metadata": {},
   "outputs": [
    {
     "name": "stdout",
     "output_type": "stream",
     "text": [
      "{'more', 'here', 'will', 'which', 'ma', \"wouldn't\", 'or', 'to', 'when', 'on', 'up', 'couldn', 'shan', 'y', 'by', \"you'd\", 'too', 'doing', 'how', 'out', 'themselves', 'him', 'ours', \"shouldn't\", 'having', 'with', 'both', 'but', 'some', 'didn', 'no', 'do', \"weren't\", 'off', 'we', 'own', 'mustn', \"isn't\", 'in', 'just', 'herself', \"you're\", 'what', 'such', \"hadn't\", 'down', \"mustn't\", \"hasn't\", \"shan't\", 'where', 'whom', 'himself', 'and', 'between', 'isn', \"you'll\", 'who', 'that', 'hasn', 'an', 'wasn', 'hadn', \"wasn't\", 'were', 'weren', 'once', 'me', 'of', 'been', 'into', 'not', 'haven', \"haven't\", 'have', \"needn't\", 'because', 'yourself', 'those', 'its', 'the', 'i', 'from', 'same', 'aren', 'they', 'than', 'needn', 'wouldn', 'nor', 'them', \"that'll\", 'being', 'had', 'further', 'yourselves', 'you', 'for', 'his', 'o', \"couldn't\", 'these', \"mightn't\", 'then', \"won't\", 'after', 'through', 'should', 'll', 'myself', 'itself', \"doesn't\", 'a', 'my', 'over', 'ourselves', 'if', 'mightn', 'while', 'few', 'be', \"don't\", 'are', 'he', 'about', 'there', 'her', 'very', 't', 'can', 'ain', 'other', 'each', 'am', 've', 'until', 'above', 'has', 'so', 'why', \"you've\", 'as', \"aren't\", 'm', 'is', 'below', 'doesn', 'did', 'at', 'their', 'all', 'our', 'again', \"should've\", 'theirs', \"she's\", 'hers', 'won', 're', 's', 'she', 'don', 'shouldn', \"it's\", 'any', 'this', \"didn't\", 'only', 'does', 'it', 'now', 'd', 'was', 'under', 'before', 'yours', 'during', 'most', 'your', 'against'}\n"
     ]
    }
   ],
   "source": [
    "print(stop_words)"
   ]
  },
  {
   "cell_type": "code",
   "execution_count": 127,
   "metadata": {},
   "outputs": [
    {
     "data": {
      "text/plain": [
       "179"
      ]
     },
     "execution_count": 127,
     "metadata": {},
     "output_type": "execute_result"
    }
   ],
   "source": [
    "len(stop_words)"
   ]
  },
  {
   "cell_type": "code",
   "execution_count": 128,
   "metadata": {},
   "outputs": [],
   "source": [
    "df['clean_tweet'] = df['tweet'].apply(lambda x: ' '.join([item for item in x.split() if item not in stop_words]))"
   ]
  },
  {
   "cell_type": "code",
   "execution_count": 129,
   "metadata": {},
   "outputs": [
    {
     "data": {
      "text/html": [
       "<div>\n",
       "<style scoped>\n",
       "    .dataframe tbody tr th:only-of-type {\n",
       "        vertical-align: middle;\n",
       "    }\n",
       "\n",
       "    .dataframe tbody tr th {\n",
       "        vertical-align: top;\n",
       "    }\n",
       "\n",
       "    .dataframe thead th {\n",
       "        text-align: right;\n",
       "    }\n",
       "</style>\n",
       "<table border=\"1\" class=\"dataframe\">\n",
       "  <thead>\n",
       "    <tr style=\"text-align: right;\">\n",
       "      <th></th>\n",
       "      <th>tweet</th>\n",
       "      <th>clean_tweet</th>\n",
       "    </tr>\n",
       "  </thead>\n",
       "  <tbody>\n",
       "    <tr>\n",
       "      <th>0</th>\n",
       "      <td>i believe that where you live shouldn t affect...</td>\n",
       "      <td>believe live affect access life saving treatme...</td>\n",
       "    </tr>\n",
       "    <tr>\n",
       "      <th>1</th>\n",
       "      <td>congratulations to my cousin isamebarak for he...</td>\n",
       "      <td>congratulations cousin isamebarak new album fu...</td>\n",
       "    </tr>\n",
       "    <tr>\n",
       "      <th>2</th>\n",
       "      <td>felicidades a mi prima hermana isamebarak por ...</td>\n",
       "      <td>felicidades mi prima hermana isamebarak por su...</td>\n",
       "    </tr>\n",
       "    <tr>\n",
       "      <th>3</th>\n",
       "      <td>just heard that the waka video has reached bil...</td>\n",
       "      <td>heard waka video reached billion views incredi...</td>\n",
       "    </tr>\n",
       "    <tr>\n",
       "      <th>4</th>\n",
       "      <td>who s excited about shak s special guest appea...</td>\n",
       "      <td>excited shak special guest appearance tonight ...</td>\n",
       "    </tr>\n",
       "    <tr>\n",
       "      <th>...</th>\n",
       "      <td>...</td>\n",
       "      <td>...</td>\n",
       "    </tr>\n",
       "    <tr>\n",
       "      <th>100228</th>\n",
       "      <td>time to vote grab a friend to join you and hea...</td>\n",
       "      <td>time vote grab friend join head polling place</td>\n",
       "    </tr>\n",
       "    <tr>\n",
       "      <th>100229</th>\n",
       "      <td>at the final rally of his final campaign last ...</td>\n",
       "      <td>final rally final campaign last night presiden...</td>\n",
       "    </tr>\n",
       "    <tr>\n",
       "      <th>100230</th>\n",
       "      <td>it s election day this is your last chance to ...</td>\n",
       "      <td>election day last chance help win thing rt lin...</td>\n",
       "    </tr>\n",
       "    <tr>\n",
       "      <th>100231</th>\n",
       "      <td>election day is here confirm your polling plac...</td>\n",
       "      <td>election day confirm polling place bring frien...</td>\n",
       "    </tr>\n",
       "    <tr>\n",
       "      <th>100232</th>\n",
       "      <td>president obama tells the story of fired up re...</td>\n",
       "      <td>president obama tells story fired ready go fin...</td>\n",
       "    </tr>\n",
       "  </tbody>\n",
       "</table>\n",
       "<p>100233 rows × 2 columns</p>\n",
       "</div>"
      ],
      "text/plain": [
       "                                                    tweet  \\\n",
       "0       i believe that where you live shouldn t affect...   \n",
       "1       congratulations to my cousin isamebarak for he...   \n",
       "2       felicidades a mi prima hermana isamebarak por ...   \n",
       "3       just heard that the waka video has reached bil...   \n",
       "4       who s excited about shak s special guest appea...   \n",
       "...                                                   ...   \n",
       "100228  time to vote grab a friend to join you and hea...   \n",
       "100229  at the final rally of his final campaign last ...   \n",
       "100230  it s election day this is your last chance to ...   \n",
       "100231  election day is here confirm your polling plac...   \n",
       "100232  president obama tells the story of fired up re...   \n",
       "\n",
       "                                              clean_tweet  \n",
       "0       believe live affect access life saving treatme...  \n",
       "1       congratulations cousin isamebarak new album fu...  \n",
       "2       felicidades mi prima hermana isamebarak por su...  \n",
       "3       heard waka video reached billion views incredi...  \n",
       "4       excited shak special guest appearance tonight ...  \n",
       "...                                                   ...  \n",
       "100228      time vote grab friend join head polling place  \n",
       "100229  final rally final campaign last night presiden...  \n",
       "100230  election day last chance help win thing rt lin...  \n",
       "100231  election day confirm polling place bring frien...  \n",
       "100232  president obama tells story fired ready go fin...  \n",
       "\n",
       "[100233 rows x 2 columns]"
      ]
     },
     "execution_count": 129,
     "metadata": {},
     "output_type": "execute_result"
    }
   ],
   "source": [
    "df[['tweet', 'clean_tweet']]"
   ]
  },
  {
   "cell_type": "markdown",
   "metadata": {},
   "source": [
    "### Выбор столбцов с non-null значениями"
   ]
  },
  {
   "cell_type": "code",
   "execution_count": 130,
   "metadata": {},
   "outputs": [
    {
     "name": "stdout",
     "output_type": "stream",
     "text": [
      "<class 'pandas.core.frame.DataFrame'>\n",
      "RangeIndex: 100233 entries, 0 to 100232\n",
      "Data columns (total 36 columns):\n",
      " #   Column           Non-Null Count   Dtype  \n",
      "---  ------           --------------   -----  \n",
      " 0   initial_num      100233 non-null  int64  \n",
      " 1   id               100233 non-null  int64  \n",
      " 2   conversation_id  100233 non-null  int64  \n",
      " 3   created_at       100233 non-null  int64  \n",
      " 4   date             100233 non-null  object \n",
      " 5   time             100233 non-null  object \n",
      " 6   timezone         100233 non-null  object \n",
      " 7   user_id          100233 non-null  int64  \n",
      " 8   username         100233 non-null  object \n",
      " 9   name             100233 non-null  object \n",
      " 10  place            33 non-null      object \n",
      " 11  tweet            100233 non-null  object \n",
      " 12  mentions         100233 non-null  object \n",
      " 13  urls             100233 non-null  object \n",
      " 14  photos           100233 non-null  object \n",
      " 15  replies_count    100233 non-null  int64  \n",
      " 16  retweets_count   100233 non-null  int64  \n",
      " 17  likes_count      100233 non-null  int64  \n",
      " 18  hashtags         100233 non-null  object \n",
      " 19  cashtags         100233 non-null  object \n",
      " 20  link             100233 non-null  object \n",
      " 21  retweet          100233 non-null  bool   \n",
      " 22  quote_url        2981 non-null    object \n",
      " 23  video            100233 non-null  int64  \n",
      " 24  near             0 non-null       float64\n",
      " 25  geo              0 non-null       float64\n",
      " 26  source           0 non-null       float64\n",
      " 27  user_rt_id       0 non-null       float64\n",
      " 28  user_rt          0 non-null       float64\n",
      " 29  retweet_id       0 non-null       float64\n",
      " 30  reply_to         100233 non-null  object \n",
      " 31  retweet_date     0 non-null       float64\n",
      " 32  translate        0 non-null       float64\n",
      " 33  trans_src        0 non-null       float64\n",
      " 34  trans_dest       0 non-null       float64\n",
      " 35  clean_tweet      100233 non-null  object \n",
      "dtypes: bool(1), float64(10), int64(9), object(16)\n",
      "memory usage: 20.7+ MB\n"
     ]
    }
   ],
   "source": [
    "df.info(null_counts=True)"
   ]
  },
  {
   "cell_type": "markdown",
   "metadata": {},
   "source": [
    "Как следует из таблицы, non-null значения преобладают только в столбцах некоторых признаков, часть из них будет участвовать дальше."
   ]
  },
  {
   "cell_type": "code",
   "execution_count": 133,
   "metadata": {},
   "outputs": [],
   "source": [
    "df_non_null = df[['initial_num', 'id', 'conversation_id', 'created_at', 'date', 'time', 'timezone', 'user_id', 'username', 'name', 'clean_tweet', 'mentions', 'urls', 'photos', 'replies_count', 'retweets_count', 'likes_count', 'hashtags', 'link', 'quote_url', 'video', 'reply_to']]"
   ]
  },
  {
   "cell_type": "code",
   "execution_count": 134,
   "metadata": {},
   "outputs": [
    {
     "name": "stdout",
     "output_type": "stream",
     "text": [
      "<class 'pandas.core.frame.DataFrame'>\n",
      "RangeIndex: 100233 entries, 0 to 100232\n",
      "Data columns (total 22 columns):\n",
      " #   Column           Non-Null Count   Dtype \n",
      "---  ------           --------------   ----- \n",
      " 0   initial_num      100233 non-null  int64 \n",
      " 1   id               100233 non-null  int64 \n",
      " 2   conversation_id  100233 non-null  int64 \n",
      " 3   created_at       100233 non-null  int64 \n",
      " 4   date             100233 non-null  object\n",
      " 5   time             100233 non-null  object\n",
      " 6   timezone         100233 non-null  object\n",
      " 7   user_id          100233 non-null  int64 \n",
      " 8   username         100233 non-null  object\n",
      " 9   name             100233 non-null  object\n",
      " 10  clean_tweet      100233 non-null  object\n",
      " 11  mentions         100233 non-null  object\n",
      " 12  urls             100233 non-null  object\n",
      " 13  photos           100233 non-null  object\n",
      " 14  replies_count    100233 non-null  int64 \n",
      " 15  retweets_count   100233 non-null  int64 \n",
      " 16  likes_count      100233 non-null  int64 \n",
      " 17  hashtags         100233 non-null  object\n",
      " 18  link             100233 non-null  object\n",
      " 19  quote_url        2981 non-null    object\n",
      " 20  video            100233 non-null  int64 \n",
      " 21  reply_to         100233 non-null  object\n",
      "dtypes: int64(9), object(13)\n",
      "memory usage: 11.9+ MB\n"
     ]
    }
   ],
   "source": [
    "df_non_null.info(null_counts=True)"
   ]
  },
  {
   "cell_type": "markdown",
   "metadata": {},
   "source": [
    "### Удаление текстов твитов из менее, чем 50 символов"
   ]
  },
  {
   "cell_type": "code",
   "execution_count": 135,
   "metadata": {},
   "outputs": [],
   "source": [
    "new_df = df_non_null[df_non_null['clean_tweet'].apply(lambda tweets: sum(len(tweet) for tweet in tweets.split()) >= 50)]"
   ]
  },
  {
   "cell_type": "code",
   "execution_count": 137,
   "metadata": {},
   "outputs": [
    {
     "data": {
      "text/html": [
       "<div>\n",
       "<style scoped>\n",
       "    .dataframe tbody tr th:only-of-type {\n",
       "        vertical-align: middle;\n",
       "    }\n",
       "\n",
       "    .dataframe tbody tr th {\n",
       "        vertical-align: top;\n",
       "    }\n",
       "\n",
       "    .dataframe thead th {\n",
       "        text-align: right;\n",
       "    }\n",
       "</style>\n",
       "<table border=\"1\" class=\"dataframe\">\n",
       "  <thead>\n",
       "    <tr style=\"text-align: right;\">\n",
       "      <th></th>\n",
       "      <th>name</th>\n",
       "      <th>date</th>\n",
       "      <th>clean_tweet</th>\n",
       "      <th>hashtags</th>\n",
       "      <th>replies_count</th>\n",
       "      <th>retweets_count</th>\n",
       "      <th>likes_count</th>\n",
       "    </tr>\n",
       "  </thead>\n",
       "  <tbody>\n",
       "    <tr>\n",
       "      <th>0</th>\n",
       "      <td>Shakira</td>\n",
       "      <td>2020-05-28</td>\n",
       "      <td>believe live affect access life saving treatme...</td>\n",
       "      <td>['#globalgoalunite']</td>\n",
       "      <td>124</td>\n",
       "      <td>487</td>\n",
       "      <td>2834</td>\n",
       "    </tr>\n",
       "    <tr>\n",
       "      <th>1</th>\n",
       "      <td>Shakira</td>\n",
       "      <td>2020-05-27</td>\n",
       "      <td>congratulations cousin isamebarak new album fu...</td>\n",
       "      <td>[]</td>\n",
       "      <td>30</td>\n",
       "      <td>115</td>\n",
       "      <td>1021</td>\n",
       "    </tr>\n",
       "    <tr>\n",
       "      <th>2</th>\n",
       "      <td>Shakira</td>\n",
       "      <td>2020-05-27</td>\n",
       "      <td>felicidades mi prima hermana isamebarak por su...</td>\n",
       "      <td>[]</td>\n",
       "      <td>117</td>\n",
       "      <td>408</td>\n",
       "      <td>3387</td>\n",
       "    </tr>\n",
       "    <tr>\n",
       "      <th>3</th>\n",
       "      <td>Shakira</td>\n",
       "      <td>2020-05-25</td>\n",
       "      <td>heard waka video reached billion views incredi...</td>\n",
       "      <td>[]</td>\n",
       "      <td>788</td>\n",
       "      <td>3912</td>\n",
       "      <td>34161</td>\n",
       "    </tr>\n",
       "    <tr>\n",
       "      <th>4</th>\n",
       "      <td>Shakira</td>\n",
       "      <td>2020-05-20</td>\n",
       "      <td>excited shak special guest appearance tonight ...</td>\n",
       "      <td>['#thevoice']</td>\n",
       "      <td>139</td>\n",
       "      <td>453</td>\n",
       "      <td>3817</td>\n",
       "    </tr>\n",
       "    <tr>\n",
       "      <th>5</th>\n",
       "      <td>Shakira</td>\n",
       "      <td>2020-05-15</td>\n",
       "      <td>felicidades de nuestro equipo fpiesdescalzos e...</td>\n",
       "      <td>['#díadelmaestro']</td>\n",
       "      <td>27</td>\n",
       "      <td>217</td>\n",
       "      <td>2180</td>\n",
       "    </tr>\n",
       "    <tr>\n",
       "      <th>6</th>\n",
       "      <td>Shakira</td>\n",
       "      <td>2020-05-15</td>\n",
       "      <td>los maestros son los pilares de la sociedad co...</td>\n",
       "      <td>[]</td>\n",
       "      <td>87</td>\n",
       "      <td>642</td>\n",
       "      <td>5492</td>\n",
       "    </tr>\n",
       "    <tr>\n",
       "      <th>7</th>\n",
       "      <td>Shakira</td>\n",
       "      <td>2020-05-14</td>\n",
       "      <td>mustered strength put makeup day job homeschoo...</td>\n",
       "      <td>['#smallvictories']</td>\n",
       "      <td>646</td>\n",
       "      <td>1326</td>\n",
       "      <td>26612</td>\n",
       "    </tr>\n",
       "    <tr>\n",
       "      <th>8</th>\n",
       "      <td>Shakira</td>\n",
       "      <td>2020-05-11</td>\n",
       "      <td>check shak performance try everything zootopia...</td>\n",
       "      <td>['#disneyfamilysingalong', '#disneyfamilysinga...</td>\n",
       "      <td>162</td>\n",
       "      <td>787</td>\n",
       "      <td>4589</td>\n",
       "    </tr>\n",
       "    <tr>\n",
       "      <th>9</th>\n",
       "      <td>Shakira</td>\n",
       "      <td>2020-05-11</td>\n",
       "      <td>check disney family singalong today abcnetwork...</td>\n",
       "      <td>['#disneyfamilysingalong']</td>\n",
       "      <td>179</td>\n",
       "      <td>576</td>\n",
       "      <td>5889</td>\n",
       "    </tr>\n",
       "  </tbody>\n",
       "</table>\n",
       "</div>"
      ],
      "text/plain": [
       "      name        date                                        clean_tweet  \\\n",
       "0  Shakira  2020-05-28  believe live affect access life saving treatme...   \n",
       "1  Shakira  2020-05-27  congratulations cousin isamebarak new album fu...   \n",
       "2  Shakira  2020-05-27  felicidades mi prima hermana isamebarak por su...   \n",
       "3  Shakira  2020-05-25  heard waka video reached billion views incredi...   \n",
       "4  Shakira  2020-05-20  excited shak special guest appearance tonight ...   \n",
       "5  Shakira  2020-05-15  felicidades de nuestro equipo fpiesdescalzos e...   \n",
       "6  Shakira  2020-05-15  los maestros son los pilares de la sociedad co...   \n",
       "7  Shakira  2020-05-14  mustered strength put makeup day job homeschoo...   \n",
       "8  Shakira  2020-05-11  check shak performance try everything zootopia...   \n",
       "9  Shakira  2020-05-11  check disney family singalong today abcnetwork...   \n",
       "\n",
       "                                            hashtags  replies_count  \\\n",
       "0                               ['#globalgoalunite']            124   \n",
       "1                                                 []             30   \n",
       "2                                                 []            117   \n",
       "3                                                 []            788   \n",
       "4                                      ['#thevoice']            139   \n",
       "5                                 ['#díadelmaestro']             27   \n",
       "6                                                 []             87   \n",
       "7                                ['#smallvictories']            646   \n",
       "8  ['#disneyfamilysingalong', '#disneyfamilysinga...            162   \n",
       "9                         ['#disneyfamilysingalong']            179   \n",
       "\n",
       "   retweets_count  likes_count  \n",
       "0             487         2834  \n",
       "1             115         1021  \n",
       "2             408         3387  \n",
       "3            3912        34161  \n",
       "4             453         3817  \n",
       "5             217         2180  \n",
       "6             642         5492  \n",
       "7            1326        26612  \n",
       "8             787         4589  \n",
       "9             576         5889  "
      ]
     },
     "execution_count": 137,
     "metadata": {},
     "output_type": "execute_result"
    }
   ],
   "source": [
    "new_df[['name', 'date', 'clean_tweet', 'hashtags', 'replies_count', 'retweets_count', 'likes_count']][:10]"
   ]
  },
  {
   "cell_type": "markdown",
   "metadata": {},
   "source": [
    "### Запись твитов без стоп-слов в файл формата csv"
   ]
  },
  {
   "cell_type": "code",
   "execution_count": 139,
   "metadata": {},
   "outputs": [],
   "source": [
    "data_without_stopwords_file = 'data_without_stopwords.csv'"
   ]
  },
  {
   "cell_type": "code",
   "execution_count": 140,
   "metadata": {},
   "outputs": [],
   "source": [
    "new_df.to_csv(\"{}/{}\".format(data_path, data_without_stopwords_file))"
   ]
  },
  {
   "cell_type": "markdown",
   "metadata": {},
   "source": [
    "### Просмотр и подсчет обработанных твитов "
   ]
  },
  {
   "cell_type": "code",
   "execution_count": 141,
   "metadata": {},
   "outputs": [],
   "source": [
    "df_without_stopwords = pd.read_csv(\"{}/{}\".format(data_path, data_without_stopwords_file))"
   ]
  },
  {
   "cell_type": "code",
   "execution_count": 146,
   "metadata": {},
   "outputs": [
    {
     "data": {
      "text/plain": [
       "Index(['Unnamed: 0', 'initial_num', 'id', 'conversation_id', 'created_at',\n",
       "       'date', 'time', 'timezone', 'user_id', 'username', 'name',\n",
       "       'clean_tweet', 'mentions', 'urls', 'photos', 'replies_count',\n",
       "       'retweets_count', 'likes_count', 'hashtags', 'link', 'quote_url',\n",
       "       'video', 'reply_to'],\n",
       "      dtype='object')"
      ]
     },
     "execution_count": 146,
     "metadata": {},
     "output_type": "execute_result"
    }
   ],
   "source": [
    "df_without_stopwords.columns"
   ]
  },
  {
   "cell_type": "code",
   "execution_count": 148,
   "metadata": {},
   "outputs": [
    {
     "data": {
      "text/html": [
       "<div>\n",
       "<style scoped>\n",
       "    .dataframe tbody tr th:only-of-type {\n",
       "        vertical-align: middle;\n",
       "    }\n",
       "\n",
       "    .dataframe tbody tr th {\n",
       "        vertical-align: top;\n",
       "    }\n",
       "\n",
       "    .dataframe thead th {\n",
       "        text-align: right;\n",
       "    }\n",
       "</style>\n",
       "<table border=\"1\" class=\"dataframe\">\n",
       "  <thead>\n",
       "    <tr style=\"text-align: right;\">\n",
       "      <th></th>\n",
       "      <th>id</th>\n",
       "      <th>name</th>\n",
       "      <th>date</th>\n",
       "      <th>time</th>\n",
       "      <th>clean_tweet</th>\n",
       "      <th>mentions</th>\n",
       "      <th>hashtags</th>\n",
       "      <th>replies_count</th>\n",
       "      <th>retweets_count</th>\n",
       "      <th>likes_count</th>\n",
       "    </tr>\n",
       "  </thead>\n",
       "  <tbody>\n",
       "    <tr>\n",
       "      <th>0</th>\n",
       "      <td>1266078954286350337</td>\n",
       "      <td>Shakira</td>\n",
       "      <td>2020-05-28</td>\n",
       "      <td>21:48:39</td>\n",
       "      <td>believe live affect access life saving treatme...</td>\n",
       "      <td>['glblctzn']</td>\n",
       "      <td>['#globalgoalunite']</td>\n",
       "      <td>124</td>\n",
       "      <td>487</td>\n",
       "      <td>2834</td>\n",
       "    </tr>\n",
       "    <tr>\n",
       "      <th>1</th>\n",
       "      <td>1265729123302944768</td>\n",
       "      <td>Shakira</td>\n",
       "      <td>2020-05-27</td>\n",
       "      <td>22:38:33</td>\n",
       "      <td>congratulations cousin isamebarak new album fu...</td>\n",
       "      <td>['isamebarak']</td>\n",
       "      <td>[]</td>\n",
       "      <td>30</td>\n",
       "      <td>115</td>\n",
       "      <td>1021</td>\n",
       "    </tr>\n",
       "    <tr>\n",
       "      <th>2</th>\n",
       "      <td>1265712616804057090</td>\n",
       "      <td>Shakira</td>\n",
       "      <td>2020-05-27</td>\n",
       "      <td>21:32:58</td>\n",
       "      <td>felicidades mi prima hermana isamebarak por su...</td>\n",
       "      <td>['isamebarak']</td>\n",
       "      <td>[]</td>\n",
       "      <td>117</td>\n",
       "      <td>408</td>\n",
       "      <td>3387</td>\n",
       "    </tr>\n",
       "    <tr>\n",
       "      <th>3</th>\n",
       "      <td>1264925485626208264</td>\n",
       "      <td>Shakira</td>\n",
       "      <td>2020-05-25</td>\n",
       "      <td>17:25:11</td>\n",
       "      <td>heard waka video reached billion views incredi...</td>\n",
       "      <td>[]</td>\n",
       "      <td>[]</td>\n",
       "      <td>788</td>\n",
       "      <td>3912</td>\n",
       "      <td>34161</td>\n",
       "    </tr>\n",
       "    <tr>\n",
       "      <th>4</th>\n",
       "      <td>1262876482751389696</td>\n",
       "      <td>Shakira</td>\n",
       "      <td>2020-05-20</td>\n",
       "      <td>01:43:11</td>\n",
       "      <td>excited shak special guest appearance tonight ...</td>\n",
       "      <td>['nbcthevoice']</td>\n",
       "      <td>['#thevoice']</td>\n",
       "      <td>139</td>\n",
       "      <td>453</td>\n",
       "      <td>3817</td>\n",
       "    </tr>\n",
       "    <tr>\n",
       "      <th>...</th>\n",
       "      <td>...</td>\n",
       "      <td>...</td>\n",
       "      <td>...</td>\n",
       "      <td>...</td>\n",
       "      <td>...</td>\n",
       "      <td>...</td>\n",
       "      <td>...</td>\n",
       "      <td>...</td>\n",
       "      <td>...</td>\n",
       "      <td>...</td>\n",
       "    </tr>\n",
       "    <tr>\n",
       "      <th>79990</th>\n",
       "      <td>265817228384034816</td>\n",
       "      <td>Barack Obama</td>\n",
       "      <td>2012-11-06</td>\n",
       "      <td>17:05:40</td>\n",
       "      <td>amanda ak supporting president obama college s...</td>\n",
       "      <td>[]</td>\n",
       "      <td>[]</td>\n",
       "      <td>142</td>\n",
       "      <td>1331</td>\n",
       "      <td>393</td>\n",
       "    </tr>\n",
       "    <tr>\n",
       "      <th>79991</th>\n",
       "      <td>265816369537351681</td>\n",
       "      <td>Barack Obama</td>\n",
       "      <td>2012-11-06</td>\n",
       "      <td>17:02:15</td>\n",
       "      <td>check voters reasons supporting president obam...</td>\n",
       "      <td>[]</td>\n",
       "      <td>['#voteobama']</td>\n",
       "      <td>168</td>\n",
       "      <td>1077</td>\n",
       "      <td>309</td>\n",
       "    </tr>\n",
       "    <tr>\n",
       "      <th>79992</th>\n",
       "      <td>265798182842273792</td>\n",
       "      <td>Barack Obama</td>\n",
       "      <td>2012-11-06</td>\n",
       "      <td>15:49:59</td>\n",
       "      <td>final rally final campaign last night presiden...</td>\n",
       "      <td>[]</td>\n",
       "      <td>[]</td>\n",
       "      <td>213</td>\n",
       "      <td>1348</td>\n",
       "      <td>492</td>\n",
       "    </tr>\n",
       "    <tr>\n",
       "      <th>79993</th>\n",
       "      <td>265785848665100289</td>\n",
       "      <td>Barack Obama</td>\n",
       "      <td>2012-11-06</td>\n",
       "      <td>15:00:59</td>\n",
       "      <td>election day last chance help win thing rt lin...</td>\n",
       "      <td>[]</td>\n",
       "      <td>[]</td>\n",
       "      <td>456</td>\n",
       "      <td>8550</td>\n",
       "      <td>677</td>\n",
       "    </tr>\n",
       "    <tr>\n",
       "      <th>79994</th>\n",
       "      <td>265696810234949632</td>\n",
       "      <td>Barack Obama</td>\n",
       "      <td>2012-11-06</td>\n",
       "      <td>09:07:10</td>\n",
       "      <td>president obama tells story fired ready go fin...</td>\n",
       "      <td>[]</td>\n",
       "      <td>['#forward']</td>\n",
       "      <td>378</td>\n",
       "      <td>1826</td>\n",
       "      <td>704</td>\n",
       "    </tr>\n",
       "  </tbody>\n",
       "</table>\n",
       "<p>79995 rows × 10 columns</p>\n",
       "</div>"
      ],
      "text/plain": [
       "                        id          name        date      time  \\\n",
       "0      1266078954286350337       Shakira  2020-05-28  21:48:39   \n",
       "1      1265729123302944768       Shakira  2020-05-27  22:38:33   \n",
       "2      1265712616804057090       Shakira  2020-05-27  21:32:58   \n",
       "3      1264925485626208264       Shakira  2020-05-25  17:25:11   \n",
       "4      1262876482751389696       Shakira  2020-05-20  01:43:11   \n",
       "...                    ...           ...         ...       ...   \n",
       "79990   265817228384034816  Barack Obama  2012-11-06  17:05:40   \n",
       "79991   265816369537351681  Barack Obama  2012-11-06  17:02:15   \n",
       "79992   265798182842273792  Barack Obama  2012-11-06  15:49:59   \n",
       "79993   265785848665100289  Barack Obama  2012-11-06  15:00:59   \n",
       "79994   265696810234949632  Barack Obama  2012-11-06  09:07:10   \n",
       "\n",
       "                                             clean_tweet         mentions  \\\n",
       "0      believe live affect access life saving treatme...     ['glblctzn']   \n",
       "1      congratulations cousin isamebarak new album fu...   ['isamebarak']   \n",
       "2      felicidades mi prima hermana isamebarak por su...   ['isamebarak']   \n",
       "3      heard waka video reached billion views incredi...               []   \n",
       "4      excited shak special guest appearance tonight ...  ['nbcthevoice']   \n",
       "...                                                  ...              ...   \n",
       "79990  amanda ak supporting president obama college s...               []   \n",
       "79991  check voters reasons supporting president obam...               []   \n",
       "79992  final rally final campaign last night presiden...               []   \n",
       "79993  election day last chance help win thing rt lin...               []   \n",
       "79994  president obama tells story fired ready go fin...               []   \n",
       "\n",
       "                   hashtags  replies_count  retweets_count  likes_count  \n",
       "0      ['#globalgoalunite']            124             487         2834  \n",
       "1                        []             30             115         1021  \n",
       "2                        []            117             408         3387  \n",
       "3                        []            788            3912        34161  \n",
       "4             ['#thevoice']            139             453         3817  \n",
       "...                     ...            ...             ...          ...  \n",
       "79990                    []            142            1331          393  \n",
       "79991        ['#voteobama']            168            1077          309  \n",
       "79992                    []            213            1348          492  \n",
       "79993                    []            456            8550          677  \n",
       "79994          ['#forward']            378            1826          704  \n",
       "\n",
       "[79995 rows x 10 columns]"
      ]
     },
     "execution_count": 148,
     "metadata": {},
     "output_type": "execute_result"
    }
   ],
   "source": [
    "df_without_stopwords[['id', 'name', 'date', 'time', 'clean_tweet', 'mentions', 'hashtags', 'replies_count', 'retweets_count', 'likes_count']]"
   ]
  },
  {
   "cell_type": "code",
   "execution_count": 149,
   "metadata": {},
   "outputs": [
    {
     "data": {
      "text/plain": [
       "name\n",
       "Ariana Grande           2215\n",
       "Barack Obama            5171\n",
       "Britney Spears          2187\n",
       "CNN Breaking News      11514\n",
       "Cristiano Ronaldo       1362\n",
       "Donald J. Trump         8957\n",
       "Ellen DeGeneres         5158\n",
       "Justin Bieber           2411\n",
       "Justin Timberlake       1582\n",
       "KATY PERRY              4750\n",
       "Kim Kardashian West     3231\n",
       "Lady Gaga               4294\n",
       "Narendra Modi           9809\n",
       "Rihanna                 3345\n",
       "Selena Gomez            1318\n",
       "Shakira                 3882\n",
       "Taylor Swift             214\n",
       "Team Demi               4008\n",
       "Twitter                  967\n",
       "YouTube                 3620\n",
       "dtype: int64"
      ]
     },
     "execution_count": 149,
     "metadata": {},
     "output_type": "execute_result"
    }
   ],
   "source": [
    "get_total_number_of_docs_by_users(df_without_stopwords)"
   ]
  }
 ],
 "metadata": {
  "kernelspec": {
   "display_name": "Python 3",
   "language": "python",
   "name": "python3"
  },
  "language_info": {
   "codemirror_mode": {
    "name": "ipython",
    "version": 3
   },
   "file_extension": ".py",
   "mimetype": "text/x-python",
   "name": "python",
   "nbconvert_exporter": "python",
   "pygments_lexer": "ipython3",
   "version": "3.8.2"
  }
 },
 "nbformat": 4,
 "nbformat_minor": 4
}
